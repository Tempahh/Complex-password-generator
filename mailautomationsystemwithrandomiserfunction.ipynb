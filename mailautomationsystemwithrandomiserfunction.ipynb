{
  "nbformat": 4,
  "nbformat_minor": 0,
  "metadata": {
    "colab": {
      "provenance": [],
      "authorship_tag": "ABX9TyPjTzaJ7adJRpYfMbRsl9yW",
      "include_colab_link": true
    },
    "kernelspec": {
      "name": "python3",
      "display_name": "Python 3"
    },
    "language_info": {
      "name": "python"
    }
  },
  "cells": [
    {
      "cell_type": "markdown",
      "metadata": {
        "id": "view-in-github",
        "colab_type": "text"
      },
      "source": [
        "<a href=\"https://colab.research.google.com/github/Tempahh/Complex-password-generator/blob/main/mailautomationsystemwithrandomiserfunction.ipynb\" target=\"_parent\"><img src=\"https://colab.research.google.com/assets/colab-badge.svg\" alt=\"Open In Colab\"/></a>"
      ]
    },
    {
      "cell_type": "code",
      "execution_count": null,
      "metadata": {
        "id": "p1pbw9QnsBiP"
      },
      "outputs": [],
      "source": [
        "import smtplib\n"
      ]
    },
    {
      "cell_type": "code",
      "source": [
        "npvdizsiuotjklrg\n",
        "\n",
        "senders_and_receivers = [\n",
        "    {'sender_name': 'tempahhhh', 'receiver_address': 'plance991@gmail.com', 'receiver_name': 'Receiver One'},\n",
        "    {'sender_name': 'plance991@gmail.com', 'receiver_address':'plance991@gmail.com', 'receiver_name': 'Receiver Two'},\n",
        "    {'sender_name': 'plance991@gmail.com', 'receiver_address': 'plance991@gmail.com', 'receiver_name': 'Receiver Three'},\n",
        "]\n"
      ],
      "metadata": {
        "colab": {
          "base_uri": "https://localhost:8080/"
        },
        "id": "gzoGeQYasG1G",
        "outputId": "6474ba27-df6f-43fd-9a0c-e72ff8eda28e"
      },
      "execution_count": null,
      "outputs": [
        {
          "output_type": "execute_result",
          "data": {
            "text/plain": [
              "(221,\n",
              " b'2.0.0 closing connection s15-20020a1f2c0f000000b00408bf64fc8fsm96553vks.25 - gsmtp')"
            ]
          },
          "metadata": {},
          "execution_count": 12
        }
      ]
    },
    {
      "cell_type": "code",
      "source": [
        "import smtplib\n",
        "import random\n",
        "\n",
        "smtp_server = \"smtp.gmail.com\"\n",
        "smtp_port = 587\n",
        "smtp_username = \"plance991@gmail.com\"\n",
        "smtp_password = \"npvdizsiuotjklrg\"\n",
        "smtp_sender_name = \"Custom Name\"\n",
        "\n",
        "# List of sender names and recipient emails/names\n",
        "senders_and_recipients = {\n",
        "    \"Sender A\": [\"plance991@example.com\", \"Recipient A\"],\n",
        "\n",
        "}\n",
        "\n",
        "# Select sender and recipient randomly\n",
        "sender, [recipient_email, recipient_name] = random.choice(list(senders_and_recipients.items()))\n",
        "\n",
        "# Set nickname for the sender\n",
        "smtp_sender_nickname = f\"{smtp_sender_name} ({smtp_username})\"\n",
        "\n",
        "smtp_conn = smtplib.SMTP(smtp_server, smtp_port)\n",
        "smtp_conn.ehlo()\n",
        "smtp_conn.starttls()\n",
        "smtp_conn.login(smtp_username, smtp_password)\n",
        "\n",
        "msg = \"Your email message\"\n",
        "from_addr = smtp_username\n",
        "to_addr = recipient_email\n",
        "subject = \"Your email subject\"\n",
        "body = f\"Subject: {subject}\\n\\nDear {recipient_name},\\n{msg}\"\n",
        "\n",
        "smtp_conn.sendmail(from_addr, to_addr, body.encode('utf-8'), mail_options=[f\"From: {smtp_sender_nickname} <{from_addr}>\"])\n",
        "smtp_conn.quit()\n"
      ],
      "metadata": {
        "colab": {
          "base_uri": "https://localhost:8080/",
          "height": 347
        },
        "id": "aAlxgSe8v1U4",
        "outputId": "2e40f171-9d04-430e-8ea5-41f10f9057b4"
      },
      "execution_count": null,
      "outputs": [
        {
          "output_type": "error",
          "ename": "SMTPSenderRefused",
          "evalue": "ignored",
          "traceback": [
            "\u001b[0;31m---------------------------------------------------------------------------\u001b[0m",
            "\u001b[0;31mSMTPSenderRefused\u001b[0m                         Traceback (most recent call last)",
            "\u001b[0;32m<ipython-input-8-19738eeee4bf>\u001b[0m in \u001b[0;36m<module>\u001b[0;34m\u001b[0m\n\u001b[1;32m     31\u001b[0m \u001b[0mbody\u001b[0m \u001b[0;34m=\u001b[0m \u001b[0;34mf\"Subject: {subject}\\n\\nDear {recipient_name},\\n{msg}\"\u001b[0m\u001b[0;34m\u001b[0m\u001b[0;34m\u001b[0m\u001b[0m\n\u001b[1;32m     32\u001b[0m \u001b[0;34m\u001b[0m\u001b[0m\n\u001b[0;32m---> 33\u001b[0;31m \u001b[0msmtp_conn\u001b[0m\u001b[0;34m.\u001b[0m\u001b[0msendmail\u001b[0m\u001b[0;34m(\u001b[0m\u001b[0mfrom_addr\u001b[0m\u001b[0;34m,\u001b[0m \u001b[0mto_addr\u001b[0m\u001b[0;34m,\u001b[0m \u001b[0mbody\u001b[0m\u001b[0;34m.\u001b[0m\u001b[0mencode\u001b[0m\u001b[0;34m(\u001b[0m\u001b[0;34m'utf-8'\u001b[0m\u001b[0;34m)\u001b[0m\u001b[0;34m,\u001b[0m \u001b[0mmail_options\u001b[0m\u001b[0;34m=\u001b[0m\u001b[0;34m[\u001b[0m\u001b[0;34mf\"From: {smtp_sender_nickname} <{from_addr}>\"\u001b[0m\u001b[0;34m]\u001b[0m\u001b[0;34m)\u001b[0m\u001b[0;34m\u001b[0m\u001b[0;34m\u001b[0m\u001b[0m\n\u001b[0m\u001b[1;32m     34\u001b[0m \u001b[0msmtp_conn\u001b[0m\u001b[0;34m.\u001b[0m\u001b[0mquit\u001b[0m\u001b[0;34m(\u001b[0m\u001b[0;34m)\u001b[0m\u001b[0;34m\u001b[0m\u001b[0;34m\u001b[0m\u001b[0m\n",
            "\u001b[0;32m/usr/lib/python3.8/smtplib.py\u001b[0m in \u001b[0;36msendmail\u001b[0;34m(self, from_addr, to_addrs, msg, mail_options, rcpt_options)\u001b[0m\n\u001b[1;32m    878\u001b[0m             \u001b[0;32melse\u001b[0m\u001b[0;34m:\u001b[0m\u001b[0;34m\u001b[0m\u001b[0;34m\u001b[0m\u001b[0m\n\u001b[1;32m    879\u001b[0m                 \u001b[0mself\u001b[0m\u001b[0;34m.\u001b[0m\u001b[0m_rset\u001b[0m\u001b[0;34m(\u001b[0m\u001b[0;34m)\u001b[0m\u001b[0;34m\u001b[0m\u001b[0;34m\u001b[0m\u001b[0m\n\u001b[0;32m--> 880\u001b[0;31m             \u001b[0;32mraise\u001b[0m \u001b[0mSMTPSenderRefused\u001b[0m\u001b[0;34m(\u001b[0m\u001b[0mcode\u001b[0m\u001b[0;34m,\u001b[0m \u001b[0mresp\u001b[0m\u001b[0;34m,\u001b[0m \u001b[0mfrom_addr\u001b[0m\u001b[0;34m)\u001b[0m\u001b[0;34m\u001b[0m\u001b[0;34m\u001b[0m\u001b[0m\n\u001b[0m\u001b[1;32m    881\u001b[0m         \u001b[0msenderrs\u001b[0m \u001b[0;34m=\u001b[0m \u001b[0;34m{\u001b[0m\u001b[0;34m}\u001b[0m\u001b[0;34m\u001b[0m\u001b[0;34m\u001b[0m\u001b[0m\n\u001b[1;32m    882\u001b[0m         \u001b[0;32mif\u001b[0m \u001b[0misinstance\u001b[0m\u001b[0;34m(\u001b[0m\u001b[0mto_addrs\u001b[0m\u001b[0;34m,\u001b[0m \u001b[0mstr\u001b[0m\u001b[0;34m)\u001b[0m\u001b[0;34m:\u001b[0m\u001b[0;34m\u001b[0m\u001b[0;34m\u001b[0m\u001b[0m\n",
            "\u001b[0;31mSMTPSenderRefused\u001b[0m: (555, b'5.5.2 Syntax error. c7-20020a02a607000000b003b1d7fbf810sm2635923jam.148 - gsmtp', 'plance991@gmail.com')"
          ]
        }
      ]
    }
  ]
}