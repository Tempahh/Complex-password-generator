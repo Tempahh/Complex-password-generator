{
  "nbformat": 4,
  "nbformat_minor": 0,
  "metadata": {
    "colab": {
      "provenance": [],
      "authorship_tag": "ABX9TyNF2xs13hIvPAN4FtpMNVW4",
      "include_colab_link": true
    },
    "kernelspec": {
      "name": "python3",
      "display_name": "Python 3"
    },
    "language_info": {
      "name": "python"
    }
  },
  "cells": [
    {
      "cell_type": "markdown",
      "metadata": {
        "id": "view-in-github",
        "colab_type": "text"
      },
      "source": [
        "<a href=\"https://colab.research.google.com/github/Tempahh/Complex-password-generator/blob/main/complex_password_generator.ipynb\" target=\"_parent\"><img src=\"https://colab.research.google.com/assets/colab-badge.svg\" alt=\"Open In Colab\"/></a>"
      ]
    },
    {
      "cell_type": "code",
      "execution_count": 2,
      "metadata": {
        "id": "Z0PDrwggJa68"
      },
      "outputs": [],
      "source": [
        "import random\n",
        "import string\n",
        "\n",
        "\n"
      ]
    },
    {
      "cell_type": "code",
      "source": [
        "def generate_password(length):\n",
        "    \"\"\"Generates a complex password with the given length.\"\"\"\n",
        "    \n",
        "    lowercase_letters = string.ascii_lowercase\n",
        "    uppercase_letters = string.ascii_uppercase\n",
        "    digits = string.digits\n",
        "    punctuation = string.punctuation\n",
        "\n",
        "    \n",
        "    password = []\n",
        "    password.append(random.choice(lowercase_letters))\n",
        "    password.append(random.choice(uppercase_letters))\n",
        "    password.append(random.choice(digits))\n",
        "    password.append(random.choice(punctuation))\n",
        "\n",
        "   \n",
        "    for i in range(length - 4):\n",
        "        password.append(random.choice(lowercase_letters + uppercase_letters + digits + punctuation))\n",
        "\n",
        " \n",
        "    random.shuffle(password)\n",
        "\n",
        "    \n",
        "    return ''.join(password)\n"
      ],
      "metadata": {
        "id": "10jjEtXlLGFe"
      },
      "execution_count": 5,
      "outputs": []
    },
    {
      "cell_type": "code",
      "source": [
        "password = generate_password(21)\n",
        "print(password)"
      ],
      "metadata": {
        "colab": {
          "base_uri": "https://localhost:8080/"
        },
        "id": "mhMVWRk2LMcf",
        "outputId": "da13b01d-136a-4d13-87b7-c893e5a435d9"
      },
      "execution_count": 7,
      "outputs": [
        {
          "output_type": "stream",
          "name": "stdout",
          "text": [
            "mly1y?2\"G1^X=?O{-9,`m\n"
          ]
        }
      ]
    }
  ]
}