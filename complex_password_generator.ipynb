{
  "nbformat": 4,
  "nbformat_minor": 0,
  "metadata": {
    "colab": {
      "provenance": [],
      "authorship_tag": "ABX9TyOPi+IP+HsXFP9FRbhkL+DO",
      "include_colab_link": true
    },
    "kernelspec": {
      "name": "python3",
      "display_name": "Python 3"
    },
    "language_info": {
      "name": "python"
    }
  },
  "cells": [
    {
      "cell_type": "markdown",
      "metadata": {
        "id": "view-in-github",
        "colab_type": "text"
      },
      "source": [
        "<a href=\"https://colab.research.google.com/github/Tempahh/Complex-password-generator/blob/main/complex_password_generator.ipynb\" target=\"_parent\"><img src=\"https://colab.research.google.com/assets/colab-badge.svg\" alt=\"Open In Colab\"/></a>"
      ]
    },
    {
      "cell_type": "code",
      "execution_count": 1,
      "metadata": {
        "colab": {
          "base_uri": "https://localhost:8080/"
        },
        "id": "Z0PDrwggJa68",
        "outputId": "450a44ea-31ff-4652-cfa5-01d96d191ba8"
      },
      "outputs": [
        {
          "output_type": "stream",
          "name": "stdout",
          "text": [
            "eTP8&m1PGDuH\n"
          ]
        }
      ],
      "source": [
        "import random\n",
        "import string\n",
        "\n",
        "def generate_password(length):\n",
        "    \"\"\"Generates a complex password with the given length.\"\"\"\n",
        "    # Define the character set to use for the password\n",
        "    lowercase_letters = string.ascii_lowercase\n",
        "    uppercase_letters = string.ascii_uppercase\n",
        "    digits = string.digits\n",
        "    punctuation = string.punctuation\n",
        "\n",
        "    # Choose at least one character from each character set\n",
        "    password = []\n",
        "    password.append(random.choice(lowercase_letters))\n",
        "    password.append(random.choice(uppercase_letters))\n",
        "    password.append(random.choice(digits))\n",
        "    password.append(random.choice(punctuation))\n",
        "\n",
        "    # Choose the remaining characters randomly\n",
        "    for i in range(length - 4):\n",
        "        password.append(random.choice(lowercase_letters + uppercase_letters + digits + punctuation))\n",
        "\n",
        "    # Shuffle the password to make it more secure\n",
        "    random.shuffle(password)\n",
        "\n",
        "    # Convert the password list to a string and return it\n",
        "    return ''.join(password)\n",
        "\n",
        "# Example usage\n",
        "password = generate_password(12)\n",
        "print(password)\n"
      ]
    }
  ]
}